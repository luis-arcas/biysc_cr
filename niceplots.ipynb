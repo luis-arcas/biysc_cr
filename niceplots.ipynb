{
  "nbformat": 4,
  "nbformat_minor": 0,
  "metadata": {
    "colab": {
      "provenance": [],
      "include_colab_link": true
    },
    "kernelspec": {
      "name": "python3",
      "display_name": "Python 3"
    },
    "language_info": {
      "name": "python"
    }
  },
  "cells": [
    {
      "cell_type": "markdown",
      "metadata": {
        "id": "view-in-github",
        "colab_type": "text"
      },
      "source": [
        "<a href=\"https://colab.research.google.com/github/luis-arcas/biysc_cr/blob/main/Copia_de_niceplots.ipynb\" target=\"_parent\"><img src=\"https://colab.research.google.com/assets/colab-badge.svg\" alt=\"Open In Colab\"/></a>"
      ]
    },
    {
      "cell_type": "markdown",
      "source": [
        "## **Only nice plots allowed**\n",
        "\n",
        "---\n",
        "\n"
      ],
      "metadata": {
        "id": "m4v9wO0rN59n"
      }
    },
    {
      "cell_type": "code",
      "execution_count": null,
      "metadata": {
        "id": "5I0_b0Cr2EfG",
        "colab": {
          "base_uri": "https://localhost:8080/"
        },
        "outputId": "c1317902-e56f-4e68-d7a8-2f17ce5cec7f"
      },
      "outputs": [
        {
          "output_type": "stream",
          "name": "stdout",
          "text": [
            "Hello world\n"
          ]
        }
      ],
      "source": [
        "print(\"Hello world\")\n",
        "\n",
        "### REMEMBER TO RUN EACH MODULE SEPARATELY AS VARIABLES SHARE NAMES (GOOD CODING STRATEGY)"
      ]
    },
    {
      "cell_type": "markdown",
      "source": [
        "First of all, install/import all the packages needed."
      ],
      "metadata": {
        "id": "_EasR5UxuzUt"
      }
    },
    {
      "cell_type": "code",
      "source": [
        "import matplotlib as mpl\n",
        "import matplotlib.pyplot as plt\n",
        "import pandas as pd\n",
        "import numpy as np\n",
        "import openpyxl\n",
        "!pip install --upgrade uncertainties\n",
        "from uncertainties import ufloat\n",
        "from uncertainties import unumpy\n",
        "from sklearn.linear_model import LinearRegression\n",
        "import seaborn as sns\n",
        "import statsmodels.api as stm\n",
        "print(\"success\")"
      ],
      "metadata": {
        "colab": {
          "base_uri": "https://localhost:8080/"
        },
        "id": "SuwE15P93EF4",
        "outputId": "f9b1e235-a579-4a2c-e59f-0c7284c57452"
      },
      "execution_count": null,
      "outputs": [
        {
          "output_type": "stream",
          "name": "stdout",
          "text": [
            "Looking in indexes: https://pypi.org/simple, https://us-python.pkg.dev/colab-wheels/public/simple/\n",
            "Collecting uncertainties\n",
            "  Downloading uncertainties-3.1.7-py2.py3-none-any.whl (98 kB)\n",
            "\u001b[2K     \u001b[90m━━━━━━━━━━━━━━━━━━━━━━━━━━━━━━━━━━━━━━━━\u001b[0m \u001b[32m98.4/98.4 KB\u001b[0m \u001b[31m4.0 MB/s\u001b[0m eta \u001b[36m0:00:00\u001b[0m\n",
            "\u001b[?25hRequirement already satisfied: future in /usr/local/lib/python3.8/dist-packages (from uncertainties) (0.16.0)\n",
            "Installing collected packages: uncertainties\n",
            "Successfully installed uncertainties-3.1.7\n",
            "success\n"
          ]
        }
      ]
    },
    {
      "cell_type": "code",
      "source": [
        "\n",
        "#data_dict= {\"Time\": [i for i in range(1,5)],\n",
        "#            \"Detector 1\": [int(input()) for i in range(0,10)],\n",
        "#            \"Detector 2\": [int(input()) for i in range(0,10)],\n",
        "#            \"Detector 3\": [int(input()) for i in range(0,10)],\n",
        "#            \"Detector 4\": [int(input()) for i in range(0,10)]}\n",
        "\n",
        "data_dict= {\"D1\": [3,2,1,5,3],\n",
        "            \"D2\": [1,1,1,2,1],\n",
        "            \"D3\": [1,3,2,1,1]}\n",
        "\n",
        "df_frequencies = pd.DataFrame(data_dict)\n"
      ],
      "metadata": {
        "id": "OGsMbwkrJQwQ"
      },
      "execution_count": null,
      "outputs": []
    },
    {
      "cell_type": "code",
      "source": [
        "print(df_frequencies.head())"
      ],
      "metadata": {
        "colab": {
          "base_uri": "https://localhost:8080/"
        },
        "id": "1bHlygLQK9T8",
        "outputId": "ad1e6b65-0e2b-4bc5-8db4-62ffcd9ee057"
      },
      "execution_count": null,
      "outputs": [
        {
          "output_type": "stream",
          "name": "stdout",
          "text": [
            "   D1  D2  D3\n",
            "0   3   1   1\n",
            "1   2   1   3\n",
            "2   1   1   2\n",
            "3   5   2   1\n",
            "4   3   1   1\n"
          ]
        }
      ]
    },
    {
      "cell_type": "code",
      "source": [
        "exfile= pd.ExcelWriter('Muon counts.xlsx')\n",
        "df_frequencies.to_excel(exfile)\n",
        "exfile.save()\n",
        "print(\"success\")"
      ],
      "metadata": {
        "colab": {
          "base_uri": "https://localhost:8080/"
        },
        "id": "Dewe66HqQ6hm",
        "outputId": "9d782de1-7151-46c2-b991-b4ac3acb84f6"
      },
      "execution_count": null,
      "outputs": [
        {
          "output_type": "stream",
          "name": "stdout",
          "text": [
            "success\n"
          ]
        }
      ]
    },
    {
      "cell_type": "code",
      "source": [
        "df_frequencies = df_frequencies.apply(np.cumsum)\n",
        "print(df_frequencies.head())"
      ],
      "metadata": {
        "colab": {
          "base_uri": "https://localhost:8080/"
        },
        "id": "zul7fDZFYWLq",
        "outputId": "5deb3924-3ff0-4bc3-bf3c-70dd01516cdf"
      },
      "execution_count": null,
      "outputs": [
        {
          "output_type": "stream",
          "name": "stdout",
          "text": [
            "   D1  D2  D3\n",
            "0   3   1   1\n",
            "1   5   2   4\n",
            "2   6   3   6\n",
            "3  11   5   7\n",
            "4  14   6   8\n"
          ]
        }
      ]
    },
    {
      "cell_type": "code",
      "source": [
        "y_values = list(df_frequencies.loc[4])\n",
        "print(y_values)"
      ],
      "metadata": {
        "colab": {
          "base_uri": "https://localhost:8080/"
        },
        "id": "HK58ZBUUUnY-",
        "outputId": "3bed5ce1-7e4f-433e-e19e-87203c713784"
      },
      "execution_count": null,
      "outputs": [
        {
          "output_type": "stream",
          "name": "stdout",
          "text": [
            "[14, 6, 8]\n"
          ]
        }
      ]
    },
    {
      "cell_type": "code",
      "source": [
        "fig = plt.figure()\n",
        "plt.bar((\"D1\",\"D2\",\"D3\"), y_values, color='lightgreen')\n",
        "plt.errorbar([\"D1\",\"D2\",\"D3\"], y_values , yerr = [1.4,0.6,0.8], fmt = ' ', color='black', ecolor='black', elinewidth=1, capsize=5)\n",
        "plt.xlabel(\"Detector\")\n",
        "plt.ylabel(\"Total counts\")\n",
        "plt.title(\"Total counts based on detector\")"
      ],
      "metadata": {
        "colab": {
          "base_uri": "https://localhost:8080/",
          "height": 312
        },
        "id": "Qu9KMRcLaFkg",
        "outputId": "e5e26c6e-8155-4189-f7c7-acfa634d9a03"
      },
      "execution_count": null,
      "outputs": [
        {
          "output_type": "execute_result",
          "data": {
            "text/plain": [
              "Text(0.5, 1.0, 'Total counts based on detector')"
            ]
          },
          "metadata": {},
          "execution_count": 7
        },
        {
          "output_type": "display_data",
          "data": {
            "text/plain": [
              "<Figure size 432x288 with 1 Axes>"
            ],
            "image/png": "[encoded data removed]"
          },
          "metadata": {
            "needs_background": "light"
          }
        }
      ]
    },
    {
      "cell_type": "markdown",
      "source": [
        "EXPERIMENT 1 - Zenith Angle dependance\n",
        "\n",
        "For this experiment, we want to check if there is a relation between the relative position between the sun and the detector. First of all, we create the input arrays"
      ],
      "metadata": {
        "id": "ThTdyZUcxPA1"
      }
    },
    {
      "cell_type": "code",
      "source": [
        "def unc_calc(data_value):\n",
        "  sys_unc = (((data_value.n*0.1)/15)**2+(((-data_value.n)/225)*1/60)**2)**0.5\n",
        "  tot_unc = (sys_unc**2+data_value.s**2)**0.5\n",
        "  return tot_unc\n",
        "\n",
        "counts = [25,21,14,9,3,3,0]\n",
        "poisson_std=[counts[i]**0.5 for i in range(0,7)]\n",
        "unc_counts = unumpy.uarray(counts,poisson_std)\n",
        "unc_counts_min = unc_counts/15\n",
        "print(unc_counts)\n",
        "print(unc_counts_min)\n",
        "\n",
        "zen_dict = {\"Zen angle\":unumpy.uarray([0,15,30,45,60,75,90],[5 for i in range(0,7)]),\n",
        "            \"Counts\": unumpy.uarray([unc_counts[i].n for i in range(0,7)],[unc_calc(unc_counts[i]) for i in range(0,7)]),\n",
        "            \"Counts/min\": unumpy.uarray([unc_counts_min[i].n for i in range(0,7)],[unc_calc(unc_counts_min[i]) for i in range(0,7)])}\n",
        "\n",
        "unc_sum_min = sum([zen_dict['Counts/min'][i].s for i in range(0,6)])\n",
        "unc_sum = sum([zen_dict['Counts'][i].s for i in range(0,6)])\n",
        "zero_unc = unc_sum/6\n",
        "zero_unc_min = unc_sum_min/6\n",
        "zen_dict['Counts/min'][6]=ufloat(zen_dict['Counts/min'][6].n,zero_unc_min)\n",
        "zen_dict['Counts'][6]=ufloat(zen_dict['Counts'][6].n,zero_unc)\n",
        "\n",
        "zen_df = pd.DataFrame(zen_dict)\n",
        "print(zen_df)"
      ],
      "metadata": {
        "id": "e8sENujPbbAF",
        "colab": {
          "base_uri": "https://localhost:8080/"
        },
        "outputId": "555423eb-abac-433a-ef58-c4813c625a67"
      },
      "execution_count": null,
      "outputs": [
        {
          "output_type": "stream",
          "name": "stdout",
          "text": [
            "[25.0+/-5.0 21.0+/-4.58257569495584 14.0+/-3.7416573867739413 9.0+/-3.0\n",
            " 3.0+/-1.7320508075688772 3.0+/-1.7320508075688772 0.0+/-0]\n",
            "[1.6666666666666667+/-0.3333333333333333 1.4+/-0.30550504633038933\n",
            " 0.9333333333333333+/-0.2494438257849294 0.6+/-0.2\n",
            " 0.2+/-0.11547005383792515 0.2+/-0.11547005383792515 0.0+/-0]\n",
            "  Zen angle     Counts   Counts/min\n",
            "0     0+/-5     25+/-5  1.67+/-0.33\n",
            "1    15+/-5     21+/-5  1.40+/-0.31\n",
            "2    30+/-5     14+/-4  0.93+/-0.25\n",
            "3    45+/-5  9.0+/-3.0  0.60+/-0.20\n",
            "4    60+/-5  3.0+/-1.7  0.20+/-0.12\n",
            "5    75+/-5  3.0+/-1.7  0.20+/-0.12\n",
            "6    90+/-5  0.0+/-3.3  0.00+/-0.22\n"
          ]
        }
      ]
    },
    {
      "cell_type": "markdown",
      "source": [
        "Next, we plot the graph. For that, we just use #plt.figure and aesthetic commands."
      ],
      "metadata": {
        "id": "NRsPZBvK0-4h"
      }
    },
    {
      "cell_type": "code",
      "source": [
        "fig_sun = plt.figure(figsize = (7,5))\n",
        "\n",
        "x_nom, y_nom, x_err, y_err = [],[],[],[]\n",
        "\n",
        "x= zen_df['Zen angle']\n",
        "y= zen_df['Counts/min']\n",
        "for val in x:\n",
        "  x_nom.append(val.n)\n",
        "  x_err.append(val.s)\n",
        "for val in y:\n",
        "  y_nom.append(val.n)\n",
        "  y_err.append(val.s)\n",
        "\n",
        "x_nom=np.array(x_nom)\n",
        "y_nom=np.array(y_nom)\n",
        "\n",
        "\n",
        "#linear regression\n",
        "plt.plot(x_nom,y_nom,' ')\n",
        "m,b = np.polyfit(x_nom,y_nom,1); print(m,b)\n",
        "#plt.plot(x_nom,x_nom*m+b, color='green',linewidth=2.5)\n",
        "sns.regplot(x_nom,y_nom, color='orange', marker=' ')\n",
        "#obtention of regression parameters\n",
        "x_fit = stm.add_constant(x_nom)\n",
        "fit_results = stm.OLS(y_nom, x_fit).fit()\n",
        "print(fit_results.bse, fit_results.params)\n",
        "print(fit_results.summary())\n",
        "\n",
        "\n",
        "plt.errorbar(x_nom, y_nom, xerr = x_err, yerr = y_err,  fmt = ' ', color='black', ecolor='black', elinewidth=1, capsize=5)\n",
        "plt.xlabel('Zenith Angle (°)')\n",
        "plt.ylabel('Detections per min (min^-1)')\n",
        "plt.grid(True)\n",
        "plt.axis([-10,100,-0.6,2.1])\n",
        "plt.title('Relationship between zenith angle \\nand detections per minute with a constant polar angle', fontsize=16)\n",
        "#plt.figtext(0.93,0.5,\"Assuming we have a \\n10% uncertainty in \\ncounting detections \\nand a 5° uncertainty \\nin angle measurement\", color='#171821', fontsize=13)"
      ],
      "metadata": {
        "colab": {
          "base_uri": "https://localhost:8080/",
          "height": 945
        },
        "id": "B2MhUvXJcq98",
        "outputId": "5bc82960-b829-4200-d68d-1afb021e07c2"
      },
      "execution_count": null,
      "outputs": [
        {
          "output_type": "stream",
          "name": "stdout",
          "text": [
            "-0.01936507936507937 1.585714285714286\n",
            "[0.10330151 0.00191005] [ 1.58571429 -0.01936508]\n",
            "                            OLS Regression Results                            \n",
            "==============================================================================\n",
            "Dep. Variable:                      y   R-squared:                       0.954\n",
            "Model:                            OLS   Adj. R-squared:                  0.944\n",
            "Method:                 Least Squares   F-statistic:                     102.8\n",
            "Date:                Tue, 03 Jan 2023   Prob (F-statistic):           0.000160\n",
            "Time:                        19:41:06   Log-Likelihood:                 4.4504\n",
            "No. Observations:                   7   AIC:                            -4.901\n",
            "Df Residuals:                       5   BIC:                            -5.009\n",
            "Df Model:                           1                                         \n",
            "Covariance Type:            nonrobust                                         \n",
            "==============================================================================\n",
            "                 coef    std err          t      P>|t|      [0.025      0.975]\n",
            "------------------------------------------------------------------------------\n",
            "const          1.5857      0.103     15.350      0.000       1.320       1.851\n",
            "x1            -0.0194      0.002    -10.139      0.000      -0.024      -0.014\n",
            "==============================================================================\n",
            "Omnibus:                          nan   Durbin-Watson:                   1.201\n",
            "Prob(Omnibus):                    nan   Jarque-Bera (JB):                0.663\n",
            "Skew:                          -0.490   Prob(JB):                        0.718\n",
            "Kurtosis:                       1.854   Cond. No.                         97.5\n",
            "==============================================================================\n",
            "\n",
            "Notes:\n",
            "[1] Standard Errors assume that the covariance matrix of the errors is correctly specified.\n"
          ]
        },
        {
          "output_type": "stream",
          "name": "stderr",
          "text": [
            "/usr/local/lib/python3.8/dist-packages/seaborn/_decorators.py:36: FutureWarning: Pass the following variables as keyword args: x, y. From version 0.12, the only valid positional argument will be `data`, and passing other arguments without an explicit keyword will result in an error or misinterpretation.\n",
            "  warnings.warn(\n",
            "/usr/local/lib/python3.8/dist-packages/statsmodels/stats/stattools.py:74: ValueWarning: omni_normtest is not valid with less than 8 observations; 7 samples were given.\n",
            "  warn(\"omni_normtest is not valid with less than 8 observations; %i \"\n"
          ]
        },
        {
          "output_type": "execute_result",
          "data": {
            "text/plain": [
              "Text(0.5, 1.0, 'Relationship between zenith angle \\nand detections per minute with a constant polar angle')"
            ]
          },
          "metadata": {},
          "execution_count": 15
        },
        {
          "output_type": "display_data",
          "data": {
            "text/plain": [
              "<Figure size 504x360 with 1 Axes>"
            ],
            "image/png": "[encoded data removed]"
          },
          "metadata": {
            "needs_background": "light"
          }
        }
      ]
    },
    {
      "cell_type": "markdown",
      "source": [
        "EXPERIMENT 2 - Azimuthal Angle dependance\n",
        "\n",
        "For this experiment, we want to check if there is a relation between the azimuthal angle and the reception of muons.\n",
        "\n",
        "For this experiment, we first have to calculate the uncertainties associated with the different variables:\n",
        "\n",
        "\n",
        "1.   Counts per minute (c): Let s(c) = 0.1c???\n",
        "2.   Azimuthal angle (deg): Let s(°) = 2+1+1°, being 2° human error at placing the detector, and 1° for both solar compass and angle transporter resolution.\n",
        "3.   Time (t): Let s(t) = 1 s = 1/60 min\n",
        "\n",
        "Let's also assume a Poisson distribution* for the time taken in between counts (in this case, the counts in 15 minutes are the total events measured) (σ=(c)^0.5=s)\n",
        "\n",
        "\n",
        "*A Poisson distribution studies the probability of time taken between two independent events of a kind.\n"
      ],
      "metadata": {
        "id": "tB6TSyXw2DP7"
      }
    },
    {
      "cell_type": "code",
      "source": [
        "def unc_calc(data_value):\n",
        "  sys_unc = (((data_value.n*0.1)/15)**2+(((-data_value.n)/225)*1/60)**2)**0.5\n",
        "  tot_unc = (sys_unc**2+data_value.s**2)**0.5\n",
        "  return tot_unc\n",
        "\n",
        "counts = [10,13,11,10,12]\n",
        "poisson_std=[counts[i]**0.5 for i in range(0,5)]\n",
        "unc_counts = unumpy.uarray(counts,poisson_std)\n",
        "unc_counts_min = unc_counts/15\n",
        "print(unc_counts)\n",
        "print(unc_counts_min)\n",
        "\n",
        "sun_dict = {\"Az angle\":unumpy.uarray([0,45,90,135,180],[4 for i in range(0,5)]),\n",
        "            \"Counts\":unumpy.uarray([unc_counts[i].n for i in range(0,5)], [unc_calc(unc_counts[i]) for i in range(0,5)]),\n",
        "            \"Counts/min\": unumpy.uarray([unc_counts_min[i].n for i in range(0,5)],[unc_calc(unc_counts_min[i]) for i in range(0,5)])}\n",
        "\n",
        "sun_df = pd.DataFrame(sun_dict)\n",
        "sun_df.head()"
      ],
      "metadata": {
        "colab": {
          "base_uri": "https://localhost:8080/",
          "height": 310
        },
        "id": "sW_l2Zhgfel3",
        "outputId": "dc9e3d77-2979-44b2-f412-71e29d65b2ec"
      },
      "execution_count": null,
      "outputs": [
        {
          "output_type": "stream",
          "name": "stdout",
          "text": [
            "[10.0+/-3.1622776601683795 13.0+/-3.605551275463989 11.0+/-3.3166247903554\n",
            " 10.0+/-3.1622776601683795 12.0+/-3.4641016151377544]\n",
            "[0.6666666666666666+/-0.21081851067789195\n",
            " 0.8666666666666667+/-0.2403700850309326\n",
            " 0.7333333333333333+/-0.22110831935702666\n",
            " 0.6666666666666666+/-0.21081851067789195 0.8+/-0.2309401076758503]\n"
          ]
        },
        {
          "output_type": "execute_result",
          "data": {
            "text/plain": [
              "  Az angle      Counts   Counts/min\n",
              "0    0+/-4  10.0+/-3.2  0.67+/-0.21\n",
              "1   45+/-4      13+/-4  0.87+/-0.24\n",
              "2   90+/-4  11.0+/-3.3  0.73+/-0.22\n",
              "3  135+/-4  10.0+/-3.2  0.67+/-0.21\n",
              "4  180+/-4  12.0+/-3.5  0.80+/-0.23"
            ],
            "text/html": [
              "\n",
              "  <div id=\"df-562604e6-a4ee-46b7-bca4-69819376202e\">\n",
              "    <div class=\"colab-df-container\">\n",
              "      <div>\n",
              "<style scoped>\n",
              "    .dataframe tbody tr th:only-of-type {\n",
              "        vertical-align: middle;\n",
              "    }\n",
              "\n",
              "    .dataframe tbody tr th {\n",
              "        vertical-align: top;\n",
              "    }\n",
              "\n",
              "    .dataframe thead th {\n",
              "        text-align: right;\n",
              "    }\n",
              "</style>\n",
              "<table border=\"1\" class=\"dataframe\">\n",
              "  <thead>\n",
              "    <tr style=\"text-align: right;\">\n",
              "      <th></th>\n",
              "      <th>Az angle</th>\n",
              "      <th>Counts</th>\n",
              "      <th>Counts/min</th>\n",
              "    </tr>\n",
              "  </thead>\n",
              "  <tbody>\n",
              "    <tr>\n",
              "      <th>0</th>\n",
              "      <td>0+/-4</td>\n",
              "      <td>10.0+/-3.2</td>\n",
              "      <td>0.67+/-0.21</td>\n",
              "    </tr>\n",
              "    <tr>\n",
              "      <th>1</th>\n",
              "      <td>45+/-4</td>\n",
              "      <td>13+/-4</td>\n",
              "      <td>0.87+/-0.24</td>\n",
              "    </tr>\n",
              "    <tr>\n",
              "      <th>2</th>\n",
              "      <td>90+/-4</td>\n",
              "      <td>11.0+/-3.3</td>\n",
              "      <td>0.73+/-0.22</td>\n",
              "    </tr>\n",
              "    <tr>\n",
              "      <th>3</th>\n",
              "      <td>135+/-4</td>\n",
              "      <td>10.0+/-3.2</td>\n",
              "      <td>0.67+/-0.21</td>\n",
              "    </tr>\n",
              "    <tr>\n",
              "      <th>4</th>\n",
              "      <td>180+/-4</td>\n",
              "      <td>12.0+/-3.5</td>\n",
              "      <td>0.80+/-0.23</td>\n",
              "    </tr>\n",
              "  </tbody>\n",
              "</table>\n",
              "</div>\n",
              "      <button class=\"colab-df-convert\" onclick=\"convertToInteractive('df-562604e6-a4ee-46b7-bca4-69819376202e')\"\n",
              "              title=\"Convert this dataframe to an interactive table.\"\n",
              "              style=\"display:none;\">\n",
              "        \n",
              "  <svg xmlns=\"http://www.w3.org/2000/svg\" height=\"24px\"viewBox=\"0 0 24 24\"\n",
              "       width=\"24px\">\n",
              "    <path d=\"M0 0h24v24H0V0z\" fill=\"none\"/>\n",
              "    <path d=\"M18.56 5.44l.94 2.06.94-2.06 2.06-.94-2.06-.94-.94-2.06-.94 2.06-2.06.94zm-11 1L8.5 8.5l.94-2.06 2.06-.94-2.06-.94L8.5 2.5l-.94 2.06-2.06.94zm10 10l.94 2.06.94-2.06 2.06-.94-2.06-.94-.94-2.06-.94 2.06-2.06.94z\"/><path d=\"M17.41 7.96l-1.37-1.37c-.4-.4-.92-.59-1.43-.59-.52 0-1.04.2-1.43.59L10.3 9.45l-7.72 7.72c-.78.78-.78 2.05 0 2.83L4 21.41c.39.39.9.59 1.41.59.51 0 1.02-.2 1.41-.59l7.78-7.78 2.81-2.81c.8-.78.8-2.07 0-2.86zM5.41 20L4 18.59l7.72-7.72 1.47 1.35L5.41 20z\"/>\n",
              "  </svg>\n",
              "      </button>\n",
              "      \n",
              "  <style>\n",
              "    .colab-df-container {\n",
              "      display:flex;\n",
              "      flex-wrap:wrap;\n",
              "      gap: 12px;\n",
              "    }\n",
              "\n",
              "    .colab-df-convert {\n",
              "      background-color: #E8F0FE;\n",
              "      border: none;\n",
              "      border-radius: 50%;\n",
              "      cursor: pointer;\n",
              "      display: none;\n",
              "      fill: #1967D2;\n",
              "      height: 32px;\n",
              "      padding: 0 0 0 0;\n",
              "      width: 32px;\n",
              "    }\n",
              "\n",
              "    .colab-df-convert:hover {\n",
              "      background-color: #E2EBFA;\n",
              "      box-shadow: 0px 1px 2px rgba(60, 64, 67, 0.3), 0px 1px 3px 1px rgba(60, 64, 67, 0.15);\n",
              "      fill: #174EA6;\n",
              "    }\n",
              "\n",
              "    [theme=dark] .colab-df-convert {\n",
              "      background-color: #3B4455;\n",
              "      fill: #D2E3FC;\n",
              "    }\n",
              "\n",
              "    [theme=dark] .colab-df-convert:hover {\n",
              "      background-color: #434B5C;\n",
              "      box-shadow: 0px 1px 3px 1px rgba(0, 0, 0, 0.15);\n",
              "      filter: drop-shadow(0px 1px 2px rgba(0, 0, 0, 0.3));\n",
              "      fill: #FFFFFF;\n",
              "    }\n",
              "  </style>\n",
              "\n",
              "      <script>\n",
              "        const buttonEl =\n",
              "          document.querySelector('#df-562604e6-a4ee-46b7-bca4-69819376202e button.colab-df-convert');\n",
              "        buttonEl.style.display =\n",
              "          google.colab.kernel.accessAllowed ? 'block' : 'none';\n",
              "\n",
              "        async function convertToInteractive(key) {\n",
              "          const element = document.querySelector('#df-562604e6-a4ee-46b7-bca4-69819376202e');\n",
              "          const dataTable =\n",
              "            await google.colab.kernel.invokeFunction('convertToInteractive',\n",
              "                                                     [key], {});\n",
              "          if (!dataTable) return;\n",
              "\n",
              "          const docLinkHtml = 'Like what you see? Visit the ' +\n",
              "            '<a target=\"_blank\" href=https://colab.research.google.com/notebooks/data_table.ipynb>data table notebook</a>'\n",
              "            + ' to learn more about interactive tables.';\n",
              "          element.innerHTML = '';\n",
              "          dataTable['output_type'] = 'display_data';\n",
              "          await google.colab.output.renderOutput(dataTable, element);\n",
              "          const docLink = document.createElement('div');\n",
              "          docLink.innerHTML = docLinkHtml;\n",
              "          element.appendChild(docLink);\n",
              "        }\n",
              "      </script>\n",
              "    </div>\n",
              "  </div>\n",
              "  "
            ]
          },
          "metadata": {},
          "execution_count": 12
        }
      ]
    },
    {
      "cell_type": "code",
      "source": [
        "##TRIAL METHOD\n",
        "\n",
        "\n",
        "\n",
        "#counts_min = [10/15,13/15,11/15,10/15,12/15]\n",
        "#unc_counts = []\n",
        "#for value in counts_min:\n",
        "#  unc_perc = (0.1 + 1/(15*60))*value\n",
        "#  unc_counts.append(unc)\n",
        "\n",
        "#sun_dict = {\"Az angle\":unumpy.uarray([0,45,90,135,180],[2 for i in range(0,5)]),\n",
        "#            \"Counts/min\": unumpy.uarray(counts_min,unc_counts)}\n",
        "\n",
        "#sun_df = pd.DataFrame(sun_dict)\n",
        "#sun_df.head()"
      ],
      "metadata": {
        "id": "lCeWtvt-dBvi"
      },
      "execution_count": null,
      "outputs": []
    },
    {
      "cell_type": "code",
      "source": [
        "fig_sun = plt.figure(figsize = (7,5))\n",
        "\n",
        "x_nom, y_nom, x_err, y_err = [],[],[],[]\n",
        "\n",
        "x= sun_df['Az angle']\n",
        "y= sun_df['Counts/min']\n",
        "for val in x:\n",
        "  x_nom.append(val.n)\n",
        "  x_err.append(val.s)\n",
        "for val in y:\n",
        "  y_nom.append(val.n)\n",
        "  y_err.append(val.s)\n",
        "\n",
        "x_nom=np.array(x_nom)\n",
        "y_nom=np.array(y_nom)\n",
        "\n",
        "\n",
        "#linear regression\n",
        "plt.plot(x_nom,y_nom,' ')\n",
        "m,b = np.polyfit(x_nom,y_nom,1); print(m,b)\n",
        "#plt.plot(x_nom,x_nom*m+b, color='green',linewidth=2.5)\n",
        "sns.regplot(x_nom,y_nom, color='orange', marker=' ')\n",
        "#obtention of regression parameters\n",
        "x_fit = stm.add_constant(x_nom)\n",
        "fit_results = stm.OLS(y_nom, x_fit).fit()\n",
        "print(fit_results.bse, fit_results.params)\n",
        "print(fit_results.summary())\n",
        "\n",
        "plt.errorbar(x_nom, y_nom, xerr = x_err, yerr = y_err,  fmt = ' ', color='black', ecolor='black', elinewidth=1, capsize=5)\n",
        "plt.xlabel('Angle subtended from sun (°)')\n",
        "plt.ylabel('Detections per min (min^-1)')\n",
        "plt.grid(True)\n",
        "plt.axis([-10,190,0.4,1.15])\n",
        "plt.title('Relationship between azimuth angle \\nand detections per minute with a constant zenith angle', fontsize=16)\n",
        "#plt.figtext(0.93,0.5,\"Assuming we have a \\n10% uncertainty in \\ncounting detections \\nand a 4° uncertainty \\nin angle measurement\", color='#171821', fontsize=13)"
      ],
      "metadata": {
        "colab": {
          "base_uri": "https://localhost:8080/",
          "height": 945
        },
        "id": "kFokTN_kg0jZ",
        "outputId": "27a986fd-8939-4ef9-b280-0539366c9fa7"
      },
      "execution_count": null,
      "outputs": [
        {
          "output_type": "stream",
          "name": "stdout",
          "text": [
            "0.00014814814814814744 0.733333333333333\n",
            "[0.07717225 0.00070012] [7.33333333e-01 1.48148148e-04]\n",
            "                            OLS Regression Results                            \n",
            "==============================================================================\n",
            "Dep. Variable:                      y   R-squared:                       0.015\n",
            "Model:                            OLS   Adj. R-squared:                 -0.314\n",
            "Method:                 Least Squares   F-statistic:                   0.04478\n",
            "Date:                Tue, 03 Jan 2023   Prob (F-statistic):              0.846\n",
            "Time:                        19:47:19   Log-Likelihood:                 5.7139\n",
            "No. Observations:                   5   AIC:                            -7.428\n",
            "Df Residuals:                       3   BIC:                            -8.209\n",
            "Df Model:                           1                                         \n",
            "Covariance Type:            nonrobust                                         \n",
            "==============================================================================\n",
            "                 coef    std err          t      P>|t|      [0.025      0.975]\n",
            "------------------------------------------------------------------------------\n",
            "const          0.7333      0.077      9.503      0.002       0.488       0.979\n",
            "x1             0.0001      0.001      0.212      0.846      -0.002       0.002\n",
            "==============================================================================\n",
            "Omnibus:                          nan   Durbin-Watson:                   2.633\n",
            "Prob(Omnibus):                    nan   Jarque-Bera (JB):                0.462\n",
            "Skew:                           0.499   Prob(JB):                        0.794\n",
            "Kurtosis:                       1.896   Cond. No.                         191.\n",
            "==============================================================================\n",
            "\n",
            "Notes:\n",
            "[1] Standard Errors assume that the covariance matrix of the errors is correctly specified.\n"
          ]
        },
        {
          "output_type": "stream",
          "name": "stderr",
          "text": [
            "/usr/local/lib/python3.8/dist-packages/seaborn/_decorators.py:36: FutureWarning: Pass the following variables as keyword args: x, y. From version 0.12, the only valid positional argument will be `data`, and passing other arguments without an explicit keyword will result in an error or misinterpretation.\n",
            "  warnings.warn(\n",
            "/usr/local/lib/python3.8/dist-packages/statsmodels/stats/stattools.py:74: ValueWarning: omni_normtest is not valid with less than 8 observations; 5 samples were given.\n",
            "  warn(\"omni_normtest is not valid with less than 8 observations; %i \"\n"
          ]
        },
        {
          "output_type": "execute_result",
          "data": {
            "text/plain": [
              "Text(0.5, 1.0, 'Relationship between azimuth angle \\nand detections per minute with a constant zenith angle')"
            ]
          },
          "metadata": {},
          "execution_count": 17
        },
        {
          "output_type": "display_data",
          "data": {
            "text/plain": [
              "<Figure size 504x360 with 1 Axes>"
            ],
            "image/png": "[encoded data removed]"
          },
          "metadata": {
            "needs_background": "light"
          }
        }
      ]
    },
    {
      "cell_type": "code",
      "source": [
        "#EXPT 3 - MATERIAL BARRIER"
      ],
      "metadata": {
        "id": "vruAM8190Mjx"
      },
      "execution_count": null,
      "outputs": []
    },
    {
      "cell_type": "code",
      "source": [
        "\n",
        "def unc_calc(data_value):\n",
        "  sys_unc = (((data_value.n*0.1)/15)**2+(((-data_value.n)/225)*1/60)**2)**0.5\n",
        "  tot_unc = (sys_unc**2+data_value.s**2)**0.5\n",
        "  return tot_unc\n",
        "\n",
        "cc=[25,14,13,16]\n",
        "c1=[32,34,34,31]\n",
        "ctot=[cc,c1]\n",
        "\n",
        "ctot_uncs=[None,None]\n",
        "\n",
        "for arr in ctot:\n",
        "  poisson_std=[arr[i]**0.5 for i in range(0,4)]\n",
        "  num=ctot.index(arr)\n",
        "  ctot_uncs[num] = (unumpy.uarray(ctot[num],poisson_std))\n",
        "\n",
        "\n",
        "bar_dict = {\"Material\":['None','Iron','Lead','Aluminium'],\n",
        "            \"C/c\": ctot_uncs[0],\n",
        "            \"C/c-min\": ctot_uncs[0]/15,\n",
        "            \"C/1\": ctot_uncs[1],\n",
        "            \"C/1-min\": ctot_uncs[1]/15}\n",
        "\n",
        "count=0\n",
        "for arr in ctot_uncs:\n",
        "  plc_list=[]\n",
        "  for val in arr:\n",
        "\n",
        "    tot_unc= unc_calc(val)\n",
        "    plc_list.append(ufloat(val.n,tot_unc))\n",
        "\n",
        "  ctot_uncs[count]=plc_list\n",
        "  count+=1\n",
        "\n",
        "print(ctot_uncs)\n",
        "print(bar_dict[\"C/1-min\"])\n",
        "print(bar_dict[\"C/c-min\"])\n",
        "\n",
        "bar_df = pd.DataFrame(bar_dict)\n",
        "bar_df.head()\n",
        "\n"
      ],
      "metadata": {
        "colab": {
          "base_uri": "https://localhost:8080/",
          "height": 351
        },
        "id": "V1lP45sA0QWG",
        "outputId": "fd2d7128-396a-4173-bae5-12a0e3ebe893"
      },
      "execution_count": null,
      "outputs": [
        {
          "output_type": "stream",
          "name": "stdout",
          "text": [
            "[[25.0+/-5.002777349346367, 14.0+/-3.7428214206073105, 13.0+/-3.6065928573112847, 16.0+/-4.001422144993165], [32.0+/-5.66087596841397, 34.0+/-5.835356383350833, 34.0+/-5.835356383350833, 31.0+/-5.571599086805133]]\n",
            "[2.1333333333333333+/-0.37712361663282534\n",
            " 2.2666666666666666+/-0.38873012632302006\n",
            " 2.2666666666666666+/-0.38873012632302006\n",
            " 2.066666666666667+/-0.3711842908553348]\n",
            "[1.6666666666666667+/-0.3333333333333333\n",
            " 0.9333333333333333+/-0.2494438257849294\n",
            " 0.8666666666666667+/-0.2403700850309326\n",
            " 1.0666666666666667+/-0.26666666666666666]\n"
          ]
        },
        {
          "output_type": "execute_result",
          "data": {
            "text/plain": [
              "    Material     C/c      C/c-min     C/1    C/1-min\n",
              "0       None  25+/-5  1.67+/-0.33  32+/-6  2.1+/-0.4\n",
              "1       Iron  14+/-4  0.93+/-0.25  34+/-6  2.3+/-0.4\n",
              "2       Lead  13+/-4  0.87+/-0.24  34+/-6  2.3+/-0.4\n",
              "3  Aluminium  16+/-4  1.07+/-0.27  31+/-6  2.1+/-0.4"
            ],
            "text/html": [
              "\n",
              "  <div id=\"df-a552a959-3172-4f1c-96c6-168820f93686\">\n",
              "    <div class=\"colab-df-container\">\n",
              "      <div>\n",
              "<style scoped>\n",
              "    .dataframe tbody tr th:only-of-type {\n",
              "        vertical-align: middle;\n",
              "    }\n",
              "\n",
              "    .dataframe tbody tr th {\n",
              "        vertical-align: top;\n",
              "    }\n",
              "\n",
              "    .dataframe thead th {\n",
              "        text-align: right;\n",
              "    }\n",
              "</style>\n",
              "<table border=\"1\" class=\"dataframe\">\n",
              "  <thead>\n",
              "    <tr style=\"text-align: right;\">\n",
              "      <th></th>\n",
              "      <th>Material</th>\n",
              "      <th>C/c</th>\n",
              "      <th>C/c-min</th>\n",
              "      <th>C/1</th>\n",
              "      <th>C/1-min</th>\n",
              "    </tr>\n",
              "  </thead>\n",
              "  <tbody>\n",
              "    <tr>\n",
              "      <th>0</th>\n",
              "      <td>None</td>\n",
              "      <td>25+/-5</td>\n",
              "      <td>1.67+/-0.33</td>\n",
              "      <td>32+/-6</td>\n",
              "      <td>2.1+/-0.4</td>\n",
              "    </tr>\n",
              "    <tr>\n",
              "      <th>1</th>\n",
              "      <td>Iron</td>\n",
              "      <td>14+/-4</td>\n",
              "      <td>0.93+/-0.25</td>\n",
              "      <td>34+/-6</td>\n",
              "      <td>2.3+/-0.4</td>\n",
              "    </tr>\n",
              "    <tr>\n",
              "      <th>2</th>\n",
              "      <td>Lead</td>\n",
              "      <td>13+/-4</td>\n",
              "      <td>0.87+/-0.24</td>\n",
              "      <td>34+/-6</td>\n",
              "      <td>2.3+/-0.4</td>\n",
              "    </tr>\n",
              "    <tr>\n",
              "      <th>3</th>\n",
              "      <td>Aluminium</td>\n",
              "      <td>16+/-4</td>\n",
              "      <td>1.07+/-0.27</td>\n",
              "      <td>31+/-6</td>\n",
              "      <td>2.1+/-0.4</td>\n",
              "    </tr>\n",
              "  </tbody>\n",
              "</table>\n",
              "</div>\n",
              "      <button class=\"colab-df-convert\" onclick=\"convertToInteractive('df-a552a959-3172-4f1c-96c6-168820f93686')\"\n",
              "              title=\"Convert this dataframe to an interactive table.\"\n",
              "              style=\"display:none;\">\n",
              "        \n",
              "  <svg xmlns=\"http://www.w3.org/2000/svg\" height=\"24px\"viewBox=\"0 0 24 24\"\n",
              "       width=\"24px\">\n",
              "    <path d=\"M0 0h24v24H0V0z\" fill=\"none\"/>\n",
              "    <path d=\"M18.56 5.44l.94 2.06.94-2.06 2.06-.94-2.06-.94-.94-2.06-.94 2.06-2.06.94zm-11 1L8.5 8.5l.94-2.06 2.06-.94-2.06-.94L8.5 2.5l-.94 2.06-2.06.94zm10 10l.94 2.06.94-2.06 2.06-.94-2.06-.94-.94-2.06-.94 2.06-2.06.94z\"/><path d=\"M17.41 7.96l-1.37-1.37c-.4-.4-.92-.59-1.43-.59-.52 0-1.04.2-1.43.59L10.3 9.45l-7.72 7.72c-.78.78-.78 2.05 0 2.83L4 21.41c.39.39.9.59 1.41.59.51 0 1.02-.2 1.41-.59l7.78-7.78 2.81-2.81c.8-.78.8-2.07 0-2.86zM5.41 20L4 18.59l7.72-7.72 1.47 1.35L5.41 20z\"/>\n",
              "  </svg>\n",
              "      </button>\n",
              "      \n",
              "  <style>\n",
              "    .colab-df-container {\n",
              "      display:flex;\n",
              "      flex-wrap:wrap;\n",
              "      gap: 12px;\n",
              "    }\n",
              "\n",
              "    .colab-df-convert {\n",
              "      background-color: #E8F0FE;\n",
              "      border: none;\n",
              "      border-radius: 50%;\n",
              "      cursor: pointer;\n",
              "      display: none;\n",
              "      fill: #1967D2;\n",
              "      height: 32px;\n",
              "      padding: 0 0 0 0;\n",
              "      width: 32px;\n",
              "    }\n",
              "\n",
              "    .colab-df-convert:hover {\n",
              "      background-color: #E2EBFA;\n",
              "      box-shadow: 0px 1px 2px rgba(60, 64, 67, 0.3), 0px 1px 3px 1px rgba(60, 64, 67, 0.15);\n",
              "      fill: #174EA6;\n",
              "    }\n",
              "\n",
              "    [theme=dark] .colab-df-convert {\n",
              "      background-color: #3B4455;\n",
              "      fill: #D2E3FC;\n",
              "    }\n",
              "\n",
              "    [theme=dark] .colab-df-convert:hover {\n",
              "      background-color: #434B5C;\n",
              "      box-shadow: 0px 1px 3px 1px rgba(0, 0, 0, 0.15);\n",
              "      filter: drop-shadow(0px 1px 2px rgba(0, 0, 0, 0.3));\n",
              "      fill: #FFFFFF;\n",
              "    }\n",
              "  </style>\n",
              "\n",
              "      <script>\n",
              "        const buttonEl =\n",
              "          document.querySelector('#df-a552a959-3172-4f1c-96c6-168820f93686 button.colab-df-convert');\n",
              "        buttonEl.style.display =\n",
              "          google.colab.kernel.accessAllowed ? 'block' : 'none';\n",
              "\n",
              "        async function convertToInteractive(key) {\n",
              "          const element = document.querySelector('#df-a552a959-3172-4f1c-96c6-168820f93686');\n",
              "          const dataTable =\n",
              "            await google.colab.kernel.invokeFunction('convertToInteractive',\n",
              "                                                     [key], {});\n",
              "          if (!dataTable) return;\n",
              "\n",
              "          const docLinkHtml = 'Like what you see? Visit the ' +\n",
              "            '<a target=\"_blank\" href=https://colab.research.google.com/notebooks/data_table.ipynb>data table notebook</a>'\n",
              "            + ' to learn more about interactive tables.';\n",
              "          element.innerHTML = '';\n",
              "          dataTable['output_type'] = 'display_data';\n",
              "          await google.colab.output.renderOutput(dataTable, element);\n",
              "          const docLink = document.createElement('div');\n",
              "          docLink.innerHTML = docLinkHtml;\n",
              "          element.appendChild(docLink);\n",
              "        }\n",
              "      </script>\n",
              "    </div>\n",
              "  </div>\n",
              "  "
            ]
          },
          "metadata": {},
          "execution_count": 20
        }
      ]
    },
    {
      "cell_type": "code",
      "source": [
        "bar_fig = plt.figure()\n",
        "\n",
        "y1 = [val.n for val in bar_df['C/c']]\n",
        "y2 = [val.n for val in bar_df['C/1']]\n",
        "\n",
        "err1= [val.s for val in bar_df['C/c']]\n",
        "err2= [val.s for val in bar_df['C/1']]\n",
        "\n",
        "new_y = [y1[i]+y2[i] for i in range(0,4)]\n",
        "\n",
        "\n",
        "plt.bar(bar_df['Material'], y1 ,color='#0f7aa8', width=0.8)\n",
        "plt.bar(bar_df['Material'], y2 , bottom = y1 ,color='orange',width=0.8)\n",
        "plt.errorbar(x=bar_df['Material'],\n",
        "             y= y1,\n",
        "             yerr= err1,\n",
        "             color='black',\n",
        "             fmt=' ',\n",
        "             capsize=5,\n",
        "             linewidth=2)\n",
        "plt.errorbar(x=bar_df['Material'],\n",
        "             y=new_y,\n",
        "             yerr=err2,\n",
        "             color='red',\n",
        "             fmt=' ',\n",
        "             capsize=5,\n",
        "             linewidth=2)\n",
        "plt.xlabel('Material')\n",
        "plt.ylabel('Counts in 15 minutes')\n",
        "plt.title('Blockage of GCR depending of the material in between')\n",
        "plt.legend(['Mutual detections (MD)','Single detections (SD)','Uncertainty in MD','Uncertainty in SD'],loc=(1.05,0.4))\n",
        "plt.axis([-0.5,3.5,0,70])"
      ],
      "metadata": {
        "colab": {
          "base_uri": "https://localhost:8080/",
          "height": 312
        },
        "id": "dy_VSYkH0vYY",
        "outputId": "eaf55778-9b73-43f6-b785-6b8717bfc901"
      },
      "execution_count": null,
      "outputs": [
        {
          "output_type": "execute_result",
          "data": {
            "text/plain": [
              "(-0.5, 3.5, 0.0, 70.0)"
            ]
          },
          "metadata": {},
          "execution_count": 22
        },
        {
          "output_type": "display_data",
          "data": {
            "text/plain": [
              "<Figure size 432x288 with 1 Axes>"
            ],
            "image/png": "[encoded data removed]"
          },
          "metadata": {
            "needs_background": "light"
          }
        }
      ]
    }
  ]
}
